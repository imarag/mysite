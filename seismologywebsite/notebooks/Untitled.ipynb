{
 "cells": [
  {
   "cell_type": "code",
   "execution_count": 1,
   "id": "6c77858e",
   "metadata": {},
   "outputs": [],
   "source": [
    "mypath = \"c:/Users/User/Desktop/myfile.txt\""
   ]
  },
  {
   "cell_type": "code",
   "execution_count": 4,
   "id": "009e7606",
   "metadata": {},
   "outputs": [
    {
     "name": "stdout",
     "output_type": "stream",
     "text": [
      "myfile.txt\n",
      "\n",
      "c:/Users/User/Desktop\n"
     ]
    }
   ],
   "source": [
    "# get the basename and the dirname of the path\n",
    "bs_name = os.path.basename(mypath)\n",
    "print(bs_name)\n",
    "print()\n",
    "dir_name = os.path.dirname(mypath)\n",
    "print(dir_name)"
   ]
  },
  {
   "cell_type": "code",
   "execution_count": 7,
   "id": "04d86d87",
   "metadata": {},
   "outputs": [
    {
     "name": "stdout",
     "output_type": "stream",
     "text": [
      "myfile.txt c:/Users/User/Desktop\n"
     ]
    }
   ],
   "source": [
    "dir_name, bs_name = os.path.split(mypath)\n",
    "print(bs_name, dir_name)"
   ]
  },
  {
   "cell_type": "code",
   "execution_count": 11,
   "id": "817c5fb5",
   "metadata": {},
   "outputs": [
    {
     "name": "stdout",
     "output_type": "stream",
     "text": [
      "c:/Users/User/Desktop/myfile txt\n"
     ]
    }
   ],
   "source": [
    "file_path, file_ext = os.path.splitext(mypath)\n",
    "# the file_ext returns the extension with the dot (e.g, .txt)\n",
    "# so remove the dot\n",
    "file_ext = file_ext[1:]\n",
    "print(file_path, file_ext)"
   ]
  },
  {
   "cell_type": "code",
   "execution_count": 14,
   "id": "ca188e35",
   "metadata": {},
   "outputs": [
    {
     "name": "stdout",
     "output_type": "stream",
     "text": [
      "Desktop\n"
     ]
    }
   ],
   "source": [
    "# get the name of the folder that the file is located inside\n",
    "parent_name = os.path.basename(os.path.dirname(mypath))\n",
    "print(parent_name)"
   ]
  },
  {
   "cell_type": "code",
   "execution_count": 15,
   "id": "fc506a55",
   "metadata": {},
   "outputs": [
    {
     "name": "stdout",
     "output_type": "stream",
     "text": [
      "False\n"
     ]
    }
   ],
   "source": [
    "# check if the path exists somewhere\n",
    "print(os.path.exists(mypath))"
   ]
  },
  {
   "cell_type": "code",
   "execution_count": 16,
   "id": "ca9882a5",
   "metadata": {},
   "outputs": [
    {
     "name": "stdout",
     "output_type": "stream",
     "text": [
      "is a file:  False\n",
      "is a directory:  False\n"
     ]
    }
   ],
   "source": [
    "# check if the path provided, is a file or a directory\n",
    "print('is a file: ', os.path.isfile(mypath))\n",
    "print('is a directory: ', os.path.isdir(mypath))"
   ]
  },
  {
   "cell_type": "code",
   "execution_count": 19,
   "id": "cdabefc1",
   "metadata": {},
   "outputs": [
    {
     "name": "stdout",
     "output_type": "stream",
     "text": [
      "c:/Users/User/Desktop\\data_files\\myfile.txt\n"
     ]
    }
   ],
   "source": [
    "# get the path of the file inside the new location\n",
    "new_file_path = os.path.join(os.path.dirname(mypath), 'data_files', 'myfile.txt')\n",
    "print(new_file_path)"
   ]
  },
  {
   "cell_type": "code",
   "execution_count": 20,
   "id": "265e87c0",
   "metadata": {},
   "outputs": [],
   "source": [
    "mypath = \"c:/Users/User/Desktop/myfile.txt\""
   ]
  },
  {
   "cell_type": "code",
   "execution_count": 22,
   "id": "3129e52f",
   "metadata": {},
   "outputs": [],
   "source": [
    "from pathlib import Path\n",
    "mypath = Path(mypath)"
   ]
  },
  {
   "cell_type": "code",
   "execution_count": 23,
   "id": "7c90aba4",
   "metadata": {},
   "outputs": [
    {
     "name": "stdout",
     "output_type": "stream",
     "text": [
      "mypath.name:  myfile.txt\n",
      "mypath.stem:  myfile\n",
      "mypath.suffix:  .txt\n",
      "mypath.parent:  c:\\Users\\User\\Desktop\n"
     ]
    }
   ],
   "source": [
    "# get the different parts of the path\n",
    "print(\"mypath.name: \", mypath.name)\n",
    "print(\"mypath.stem: \", mypath.stem)\n",
    "print(\"mypath.suffix: \", mypath.suffix)\n",
    "print(\"mypath.parent: \", mypath.parent)"
   ]
  },
  {
   "cell_type": "code",
   "execution_count": 33,
   "id": "6a26f08c",
   "metadata": {},
   "outputs": [
    {
     "name": "stdout",
     "output_type": "stream",
     "text": [
      "('c:\\\\', 'Users', 'User', 'Desktop', 'myfile.txt')\n"
     ]
    }
   ],
   "source": [
    "# get all of the path parts seperately\n",
    "print(mypath.parts)"
   ]
  },
  {
   "cell_type": "code",
   "execution_count": 36,
   "id": "52e4f2b7",
   "metadata": {},
   "outputs": [
    {
     "name": "stdout",
     "output_type": "stream",
     "text": [
      "[WindowsPath('c:/Users/User/Desktop'), WindowsPath('c:/Users/User'), WindowsPath('c:/Users'), WindowsPath('c:/')]\n"
     ]
    }
   ],
   "source": [
    "# get the path of each of the parents\n",
    "print(list(mypath.parents))"
   ]
  },
  {
   "cell_type": "code",
   "execution_count": 39,
   "id": "a286b75a",
   "metadata": {},
   "outputs": [
    {
     "name": "stdout",
     "output_type": "stream",
     "text": [
      "c:\\Users\\User\\Desktop\\myfile.png\n",
      "c:\\Users\\User\\Desktop\\another_file.txt\n",
      "c:\\Users\\User\\Desktop\\another_file.csv\n"
     ]
    }
   ],
   "source": [
    "# initial path\n",
    "mypath = \"c:/Users/User/Desktop/myfile.txt\"\n",
    "# pathlib WindowsPath\n",
    "mypath = Path(\"c:/Users/User/Desktop/myfile.txt\")\n",
    "# new path with file ending \".png\"\n",
    "print(mypath.with_suffix(\".png\"))\n",
    "# new path with different stem \"another_file\"\n",
    "print(mypath.with_stem(\"another_file\"))\n",
    "# new path with different name \"another_file.csv\"\n",
    "print(mypath.with_name(\"another_file.csv\"))"
   ]
  },
  {
   "cell_type": "code",
   "execution_count": 60,
   "id": "7db0738d",
   "metadata": {},
   "outputs": [
    {
     "name": "stdout",
     "output_type": "stream",
     "text": [
      "c:/Users user Desktop myfile.txt\n",
      "c:/Users user Desktop myfile.txt\n",
      "c:\\Users user Desktop myfile.txt\n",
      "c:\\Users user Desktop myfile.txt\n",
      "c:/Users user Desktop myfile.txt\n"
     ]
    }
   ],
   "source": [
    "# join path segments using a forward slash ('/')\n",
    "print('c:/Users', Path('user'), 'Desktop', 'myfile.txt')\n",
    "print('c:/Users', Path('user'), 'Desktop', Path('myfile.txt'))\n",
    "print(Path('c:/Users'), 'user', 'Desktop', 'myfile.txt')\n",
    "print(Path('c:/Users'), Path('user'), Path('Desktop'), Path('myfile.txt'))\n",
    "print('c:/Users', 'user', 'Desktop', Path('myfile.txt'))"
   ]
  },
  {
   "cell_type": "code",
   "execution_count": 61,
   "id": "a2a6805c",
   "metadata": {},
   "outputs": [
    {
     "name": "stdout",
     "output_type": "stream",
     "text": [
      "c:/Users user Desktop myfile.txt\n"
     ]
    }
   ],
   "source": []
  }
 ],
 "metadata": {
  "kernelspec": {
   "display_name": "Python 3 (ipykernel)",
   "language": "python",
   "name": "python3"
  },
  "language_info": {
   "codemirror_mode": {
    "name": "ipython",
    "version": 3
   },
   "file_extension": ".py",
   "mimetype": "text/x-python",
   "name": "python",
   "nbconvert_exporter": "python",
   "pygments_lexer": "ipython3",
   "version": "3.10.9"
  }
 },
 "nbformat": 4,
 "nbformat_minor": 5
}
