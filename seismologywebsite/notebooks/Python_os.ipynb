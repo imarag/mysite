{
 "cells": [
  {
   "cell_type": "markdown",
   "id": "a5c5367d",
   "metadata": {},
   "source": [
    "# Python OS"
   ]
  },
  {
   "cell_type": "markdown",
   "id": "d8ee6bbd",
   "metadata": {},
   "source": [
    "The Python **os** library, short for \"Operating System\" is a standard library module in Python that provides a way to interact with the operating system on which Python is running. It allows you to perform various operations related to file and directory management, process management, environment variables, and more."
   ]
  },
  {
   "cell_type": "markdown",
   "id": "b4b9393c",
   "metadata": {},
   "source": [
    "This library offers a wide array of functions, but I'll highlight the most practical ones that I frequently rely on both in my daily work and throughout my master's studies."
   ]
  },
  {
   "cell_type": "markdown",
   "id": "b54a6c73",
   "metadata": {},
   "source": [
    "## Navigation between the files"
   ]
  },
  {
   "cell_type": "markdown",
   "id": "ff2b5007",
   "metadata": {},
   "source": [
    "Python OS includes the following function to navigate through the file structure in your machine:\n",
    "- `os.mkdir(path)`: Create a directory with name *path*. If the directory already exists, *FileExistsError* is raised. If a parent directory in the path does not exist, *FileNotFoundError* is raised.\n",
    "- `os.chdir(path)`: Change the current directory to *path*\n",
    "- `os.rmdir(path)`: Delete the provided directory (*path*) if it is empty. If it is not, consider using `shutil.rmtree()`\n",
    "- `os.getcwd()`: Get the current working directory\n",
    "- `os.listdir(path)`: Get a list of the names (not the absolute path) of all the directories and files in the specified *path*. If empty, get a list of the contents of the current working directory\n",
    "- `os.remove(path)`: Remove (delete) the file path. If path is a directory, an *OSError* is raised. If the file does not exist, a *FileNotFoundError* is raised."
   ]
  },
  {
   "cell_type": "code",
   "execution_count": 40,
   "id": "bafaa9e7",
   "metadata": {},
   "outputs": [],
   "source": [
    "import os"
   ]
  },
  {
   "cell_type": "code",
   "execution_count": 41,
   "id": "40bdcabe",
   "metadata": {},
   "outputs": [],
   "source": [
    "# create a folder called \"temporary\" in the current directory\n",
    "os.mkdir(\"temporary\")"
   ]
  },
  {
   "cell_type": "code",
   "execution_count": 42,
   "id": "6e344ff8",
   "metadata": {},
   "outputs": [
    {
     "data": {
      "text/plain": [
       "'C:\\\\Users\\\\Ioannis\\\\Desktop\\\\projects\\\\seismologywebsite\\\\seismologywebsite\\\\notebooks'"
      ]
     },
     "execution_count": 42,
     "metadata": {},
     "output_type": "execute_result"
    }
   ],
   "source": [
    "# get the current working directory\n",
    "os.getcwd()"
   ]
  },
  {
   "cell_type": "code",
   "execution_count": 43,
   "id": "d39ff921",
   "metadata": {},
   "outputs": [
    {
     "data": {
      "text/plain": [
       "['.ipynb_checkpoints', 'Python os.ipynb', 'temporary']"
      ]
     },
     "execution_count": 43,
     "metadata": {},
     "output_type": "execute_result"
    }
   ],
   "source": [
    "# list all the current files\n",
    "os.listdir()"
   ]
  },
  {
   "cell_type": "code",
   "execution_count": 44,
   "id": "a7fd2f0c",
   "metadata": {},
   "outputs": [],
   "source": [
    "# navigate in the created directory\n",
    "os.chdir(\"temporary\")"
   ]
  },
  {
   "cell_type": "code",
   "execution_count": 45,
   "id": "07831163",
   "metadata": {},
   "outputs": [
    {
     "data": {
      "text/plain": [
       "'C:\\\\Users\\\\Ioannis\\\\Desktop\\\\projects\\\\seismologywebsite\\\\seismologywebsite\\\\notebooks\\\\temporary'"
      ]
     },
     "execution_count": 45,
     "metadata": {},
     "output_type": "execute_result"
    }
   ],
   "source": [
    "# get the current working directory\n",
    "os.getcwd()"
   ]
  },
  {
   "cell_type": "code",
   "execution_count": 46,
   "id": "5cc7db19",
   "metadata": {},
   "outputs": [],
   "source": [
    "# go back one directory, here you can use the absolute path or use the two dots \"..\" that specify the previous directory\n",
    "os.chdir(\"..\")"
   ]
  },
  {
   "cell_type": "code",
   "execution_count": 47,
   "id": "c5fe3c31",
   "metadata": {},
   "outputs": [
    {
     "data": {
      "text/plain": [
       "['.ipynb_checkpoints', 'Python os.ipynb', 'temporary']"
      ]
     },
     "execution_count": 47,
     "metadata": {},
     "output_type": "execute_result"
    }
   ],
   "source": [
    "# list all the current files\n",
    "os.listdir()"
   ]
  },
  {
   "cell_type": "code",
   "execution_count": 48,
   "id": "d723511d",
   "metadata": {},
   "outputs": [],
   "source": [
    "# write a file in the temporary directory\n",
    "with open(\"temporary/random_file.txt\", \"w\") as fw:\n",
    "    fw.write(\"Hello world!\")"
   ]
  },
  {
   "cell_type": "code",
   "execution_count": 49,
   "id": "b88b516d",
   "metadata": {},
   "outputs": [
    {
     "data": {
      "text/plain": [
       "['random_file.txt']"
      ]
     },
     "execution_count": 49,
     "metadata": {},
     "output_type": "execute_result"
    }
   ],
   "source": [
    "# get the files inside the temporary directory\n",
    "os.listdir(\"temporary\")"
   ]
  },
  {
   "cell_type": "code",
   "execution_count": 50,
   "id": "bf486531",
   "metadata": {},
   "outputs": [],
   "source": [
    "# delete the created file\n",
    "os.remove(\"temporary/random_file.txt\")"
   ]
  },
  {
   "cell_type": "code",
   "execution_count": 51,
   "id": "5204b994",
   "metadata": {},
   "outputs": [],
   "source": [
    "# delete the created directory\n",
    "os.rmdir(\"temporary\")"
   ]
  },
  {
   "cell_type": "markdown",
   "id": "1048edc0",
   "metadata": {},
   "source": [
    "For more information about these commands head to the <a href=\"https://docs.python.org/3/library/os.html\" target=\"_blank\">os library</a> of Python"
   ]
  },
  {
   "cell_type": "markdown",
   "id": "3175fa25",
   "metadata": {},
   "source": [
    "## Path manipulation"
   ]
  },
  {
   "cell_type": "markdown",
   "id": "61683f27",
   "metadata": {},
   "source": [
    "Python os has the `os.path` module to manipulate pathnames:\n",
    "- `os.path.basename(path)`: Get the basename of the specified *path*\n",
    "- `os.path.dirname(path)`: Get the dirname of the specified *path*\n",
    "- `os.path.splitext(path)`: Split the *path* into a pair (root, ext). If the *path* contains no extension, `ext` will be `''`\n",
    "- `os.path.split(path)`: Split the pathname path into a pair, (head, tail) or (basename, dirname) where tail is the last pathname component and head is everything leading up to that\n",
    "- `os.path.join(paths)`: Join one or more path segments intelligently. The return value is the concatenation of each path segment one directory separator\n",
    "- `os.path.exists(path)`: Check whether the specified file or folder exists (True) or not (False)\n",
    "- `os.path.isdir(path)`: Check whether the specified *path* is a folder or directory (True) or not (False)\n",
    "- `os.path.isfile(path)`: Check whether the specified *path* is a file (True) or not (False)"
   ]
  },
  {
   "cell_type": "code",
   "execution_count": 53,
   "id": "b50868e8",
   "metadata": {},
   "outputs": [],
   "source": [
    "# let's define a simple path\n",
    "mypath = 'C:/Users/User/Desktop/myimages/a_random_image.png'"
   ]
  },
  {
   "cell_type": "code",
   "execution_count": 55,
   "id": "c353ee6f",
   "metadata": {},
   "outputs": [
    {
     "data": {
      "text/plain": [
       "'a_random_image.png'"
      ]
     },
     "execution_count": 55,
     "metadata": {},
     "output_type": "execute_result"
    }
   ],
   "source": [
    "# get the basename of the path\n",
    "os.path.basename(mypath)"
   ]
  },
  {
   "cell_type": "code",
   "execution_count": 56,
   "id": "8cc84151",
   "metadata": {},
   "outputs": [
    {
     "data": {
      "text/plain": [
       "'C:/Users/User/Desktop/myimages'"
      ]
     },
     "execution_count": 56,
     "metadata": {},
     "output_type": "execute_result"
    }
   ],
   "source": [
    "# get the dirname of the path\n",
    "os.path.dirname(mypath)"
   ]
  },
  {
   "cell_type": "code",
   "execution_count": 58,
   "id": "99b98a9e",
   "metadata": {},
   "outputs": [
    {
     "data": {
      "text/plain": [
       "('C:/Users/User/Desktop/myimages', 'a_random_image.png')"
      ]
     },
     "execution_count": 58,
     "metadata": {},
     "output_type": "execute_result"
    }
   ],
   "source": [
    "# get both the basename and the dirname\n",
    "os.path.split(mypath)\n",
    "# it will return a tuple (basename, dirname)"
   ]
  },
  {
   "cell_type": "code",
   "execution_count": 59,
   "id": "eab7c5cd",
   "metadata": {},
   "outputs": [
    {
     "data": {
      "text/plain": [
       "'.png'"
      ]
     },
     "execution_count": 59,
     "metadata": {},
     "output_type": "execute_result"
    }
   ],
   "source": [
    "# get the extension of the file \n",
    "os.path.splitext(mypath)[1]"
   ]
  },
  {
   "cell_type": "code",
   "execution_count": 60,
   "id": "4a89a1ed",
   "metadata": {},
   "outputs": [
    {
     "data": {
      "text/plain": [
       "'C:/Users/User/Desktop/myimages/a_random_image'"
      ]
     },
     "execution_count": 60,
     "metadata": {},
     "output_type": "execute_result"
    }
   ],
   "source": [
    "# get the name of the file without the extension\n",
    "os.path.splitext(mypath)[0]"
   ]
  },
  {
   "cell_type": "code",
   "execution_count": 62,
   "id": "34b64007",
   "metadata": {},
   "outputs": [
    {
     "data": {
      "text/plain": [
       "'myimages'"
      ]
     },
     "execution_count": 62,
     "metadata": {},
     "output_type": "execute_result"
    }
   ],
   "source": [
    "# get the name of the parent of the parent of the file\n",
    "os.path.basename(os.path.dirname(mypath))"
   ]
  },
  {
   "cell_type": "code",
   "execution_count": 64,
   "id": "14547235",
   "metadata": {},
   "outputs": [
    {
     "data": {
      "text/plain": [
       "'C:/Users/User\\\\Desktop\\\\myimages\\\\a_random_image.png'"
      ]
     },
     "execution_count": 64,
     "metadata": {},
     "output_type": "execute_result"
    }
   ],
   "source": [
    "# construct a path intelligently\n",
    "os.path.join(r'C:/Users/User', 'Desktop', 'myimages', 'a_random_image.png')"
   ]
  },
  {
   "cell_type": "code",
   "execution_count": 65,
   "id": "fdc48430",
   "metadata": {},
   "outputs": [
    {
     "data": {
      "text/plain": [
       "False"
      ]
     },
     "execution_count": 65,
     "metadata": {},
     "output_type": "execute_result"
    }
   ],
   "source": [
    "# does this path exists somewhere?\n",
    "os.path.exists(mypath)"
   ]
  },
  {
   "cell_type": "code",
   "execution_count": 66,
   "id": "f4ef413d",
   "metadata": {},
   "outputs": [],
   "source": [
    "# let's define another path of a file that exists\n",
    "another_path = \"C:/Users/Ioannis/Desktop/data.txt\""
   ]
  },
  {
   "cell_type": "code",
   "execution_count": 67,
   "id": "1956e60e",
   "metadata": {},
   "outputs": [
    {
     "data": {
      "text/plain": [
       "True"
      ]
     },
     "execution_count": 67,
     "metadata": {},
     "output_type": "execute_result"
    }
   ],
   "source": [
    "# let's check if the file exists now\n",
    "os.path.exists(another_path)"
   ]
  },
  {
   "cell_type": "code",
   "execution_count": 68,
   "id": "bd69deb1",
   "metadata": {},
   "outputs": [
    {
     "name": "stdout",
     "output_type": "stream",
     "text": [
      "Is directory:  False\n",
      "Is file:  True\n"
     ]
    }
   ],
   "source": [
    "# check if it is a directory or a file\n",
    "print('Is directory: ', os.path.isdir(another_path))\n",
    "print('Is file: ', os.path.isfile(another_path))"
   ]
  },
  {
   "cell_type": "markdown",
   "id": "bfb42d19",
   "metadata": {},
   "source": [
    "For more information about these commands head to the <a href=\"https://docs.python.org/3/library/os.path.html\" target=\"_blank\">os.path</a> module of Python"
   ]
  },
  {
   "cell_type": "markdown",
   "id": "f9ff06fb",
   "metadata": {},
   "source": [
    "## other functions"
   ]
  },
  {
   "cell_type": "markdown",
   "id": "5f2c2e27",
   "metadata": {},
   "source": [
    "### os.walk"
   ]
  },
  {
   "cell_type": "markdown",
   "id": "52edf58c",
   "metadata": {},
   "source": [
    "You can check the tree structure of all the files and directories that are inside a folder using the `os.walk(path)` function. It yields a tuple with 3 elements (dirpath, dirnames, filenames):\n",
    "- `dirpath`: The current directory that is being examined\n",
    "- `dirnames`: The names of the directories contained in the current directory\n",
    "- `filenames`: The names of the files contained in the current directory"
   ]
  },
  {
   "cell_type": "markdown",
   "id": "47629599",
   "metadata": {},
   "source": [
    "### os.makedirs"
   ]
  },
  {
   "cell_type": "markdown",
   "id": "f4b4e02e",
   "metadata": {},
   "source": [
    "Recursive directory creation function. Like mkdir(), but makes all intermediate-level directories needed\n",
    "`os.makedirs(name, mode=0o777, exist_ok=False)`"
   ]
  },
  {
   "cell_type": "code",
   "execution_count": null,
   "id": "2889d174",
   "metadata": {},
   "outputs": [],
   "source": []
  }
 ],
 "metadata": {
  "kernelspec": {
   "display_name": "Python 3 (ipykernel)",
   "language": "python",
   "name": "python3"
  },
  "language_info": {
   "codemirror_mode": {
    "name": "ipython",
    "version": 3
   },
   "file_extension": ".py",
   "mimetype": "text/x-python",
   "name": "python",
   "nbconvert_exporter": "python",
   "pygments_lexer": "ipython3",
   "version": "3.10.9"
  }
 },
 "nbformat": 4,
 "nbformat_minor": 5
}
