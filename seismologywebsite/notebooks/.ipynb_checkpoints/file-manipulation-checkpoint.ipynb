{
 "cells": [
  {
   "cell_type": "code",
   "execution_count": 1,
   "id": "181aec3b",
   "metadata": {},
   "outputs": [],
   "source": [
    "import os"
   ]
  },
  {
   "cell_type": "code",
   "execution_count": 2,
   "id": "6c77858e",
   "metadata": {},
   "outputs": [],
   "source": [
    "mypath = \"c:/Users/User/Desktop/myfile.txt\""
   ]
  },
  {
   "cell_type": "code",
   "execution_count": 3,
   "id": "3a8ad151",
   "metadata": {},
   "outputs": [
    {
     "name": "stdout",
     "output_type": "stream",
     "text": [
      "C:\\Users\\Ioannis\\Desktop\\projects\\seismologywebsite\\seismologywebsite\\notebooks\n"
     ]
    }
   ],
   "source": [
    "print(os.getcwd())"
   ]
  },
  {
   "cell_type": "code",
   "execution_count": 12,
   "id": "009e7606",
   "metadata": {},
   "outputs": [
    {
     "name": "stdout",
     "output_type": "stream",
     "text": [
      "myfile.txt\n",
      "Desktop\n",
      "\n"
     ]
    }
   ],
   "source": [
    "# get the basename of the folowing paths\n",
    "print(os.path.basename(\"c:/Users/User/Desktop/myfile.txt\"))\n",
    "print(os.path.basename(\"c:/Users/User/Desktop\"))\n",
    "print(os.path.basename(\"c:/Users/User/Desktop/\")) # empty"
   ]
  },
  {
   "cell_type": "code",
   "execution_count": 14,
   "id": "63b0e470",
   "metadata": {},
   "outputs": [
    {
     "name": "stdout",
     "output_type": "stream",
     "text": [
      "c:/Users/User/Desktop\n",
      "c:/Users/User\n",
      "c:/Users/User/Desktop\n"
     ]
    }
   ],
   "source": [
    "# get the dirname of the folowing paths\n",
    "print(os.path.dirname(\"c:/Users/User/Desktop/myfile.txt\"))\n",
    "print(os.path.dirname(\"c:/Users/User/Desktop\"))\n",
    "print(os.path.dirname(\"c:/Users/User/Desktop/\")) # empty"
   ]
  },
  {
   "cell_type": "code",
   "execution_count": 15,
   "id": "04d86d87",
   "metadata": {},
   "outputs": [
    {
     "name": "stdout",
     "output_type": "stream",
     "text": [
      "myfile.txt c:/Users/User/Desktop\n"
     ]
    }
   ],
   "source": [
    "# get the basename and the dirname of the path\n",
    "dir_name, bs_name = os.path.split(\"c:/Users/User/Desktop/myfile.txt\")\n",
    "print(bs_name, dir_name)"
   ]
  },
  {
   "cell_type": "code",
   "execution_count": 20,
   "id": "817c5fb5",
   "metadata": {},
   "outputs": [
    {
     "name": "stdout",
     "output_type": "stream",
     "text": [
      "('c:/Users/User/Desktop/myfile', '.txt')\n",
      "('c:/Users/User/Desktop/', '')\n"
     ]
    }
   ],
   "source": [
    "# get the file path and its extension\n",
    "# if there is no file, that is there is no extension, an empty string is returned\n",
    "print(os.path.splitext(\"c:/Users/User/Desktop/myfile.txt\"))\n",
    "print(os.path.splitext(\"c:/Users/User/Desktop/\"))"
   ]
  },
  {
   "cell_type": "code",
   "execution_count": 25,
   "id": "144f2776",
   "metadata": {},
   "outputs": [
    {
     "name": "stdout",
     "output_type": "stream",
     "text": [
      "c:/Users/User\\Desktop\\new_folder/myfile.txt\n",
      "c:/Users/User\\Desktop\\myfile.txt\n",
      "c:/Users\\User/Desktop\\myfile.txt\n",
      "c:/Users/User\\Desktop\\index.html\n"
     ]
    }
   ],
   "source": [
    "# join different path segments together\n",
    "print(os.path.join(\"c:/Users/User\", \"Desktop\", \"new_folder/myfile.txt\"))\n",
    "print(os.path.join(\"c:/Users/User\", \"Desktop\", \"myfile.txt\"))\n",
    "print(os.path.join(\"c:/Users\", \"User/Desktop\", \"myfile.txt\"))\n",
    "filename = \"index.html\"\n",
    "print(os.path.join(\"c:/Users/User\", \"Desktop\", filename))"
   ]
  },
  {
   "cell_type": "code",
   "execution_count": 32,
   "id": "013145b0",
   "metadata": {},
   "outputs": [
    {
     "name": "stdout",
     "output_type": "stream",
     "text": [
      "True\n"
     ]
    }
   ],
   "source": [
    "# check if the following path exists\n",
    "print(os.path.exists(\"c:/Users/User/Desktop/myfile.txt\"))"
   ]
  },
  {
   "cell_type": "code",
   "execution_count": 31,
   "id": "2adc46d4",
   "metadata": {},
   "outputs": [
    {
     "name": "stdout",
     "output_type": "stream",
     "text": [
      "False\n"
     ]
    }
   ],
   "source": [
    "# check if the following path is a directory\n",
    "print(os.path.isdir(\"c:/Users/User/Desktop/myfile.txt\"))"
   ]
  },
  {
   "cell_type": "code",
   "execution_count": 33,
   "id": "d62cad53",
   "metadata": {},
   "outputs": [
    {
     "name": "stdout",
     "output_type": "stream",
     "text": [
      "True\n"
     ]
    }
   ],
   "source": [
    "# check if the following path is a file\n",
    "print(os.path.isfile(\"c:/Users/User/Desktop/myfile.txt\"))"
   ]
  },
  {
   "cell_type": "code",
   "execution_count": 40,
   "id": "27d9677c",
   "metadata": {},
   "outputs": [],
   "source": [
    "# initialize a file to use\n",
    "myfile = \"c:/Users/User/Desktop/mysite/templates/login.html\""
   ]
  },
  {
   "cell_type": "code",
   "execution_count": 41,
   "id": "08cce5c6",
   "metadata": {},
   "outputs": [
    {
     "name": "stdout",
     "output_type": "stream",
     "text": [
      "templates\n"
     ]
    }
   ],
   "source": [
    "parent_dir_name = os.path.basename(os.path.dirname(myfile))\n",
    "print(parent_dir_name)"
   ]
  },
  {
   "cell_type": "code",
   "execution_count": 42,
   "id": "ca188e35",
   "metadata": {},
   "outputs": [
    {
     "name": "stdout",
     "output_type": "stream",
     "text": [
      "c:/Users/User/Desktop/mysite/templates\\auth\\login.html\n"
     ]
    }
   ],
   "source": [
    "# get the new file path\n",
    "new_path = os.path.join(os.path.dirname(myfile), \"auth\", \"login.html\")\n",
    "print(new_path)"
   ]
  },
  {
   "cell_type": "code",
   "execution_count": 46,
   "id": "f81b1385",
   "metadata": {},
   "outputs": [
    {
     "name": "stdout",
     "output_type": "stream",
     "text": [
      "c:/Users/User/Desktop/mysite/templates\\auth\\login-template.html\n"
     ]
    }
   ],
   "source": [
    "# create a new path of the renamed file\n",
    "new_renamed_file_path = os.path.splitext(new_path)[0]\n",
    "new_renamed_file_ext = os.path.splitext(new_path)[1]\n",
    "new_renamed_path = new_renamed_file_path + \"-template\" + new_renamed_file_ext\n",
    "print(new_renamed_path)"
   ]
  },
  {
   "cell_type": "code",
   "execution_count": 47,
   "id": "b551e12a",
   "metadata": {},
   "outputs": [],
   "source": [
    "from pathlib import Path"
   ]
  },
  {
   "cell_type": "code",
   "execution_count": 49,
   "id": "bbef859a",
   "metadata": {},
   "outputs": [
    {
     "name": "stdout",
     "output_type": "stream",
     "text": [
      "<class 'pathlib.WindowsPath'>\n"
     ]
    }
   ],
   "source": [
    "pathlib_path = Path(myfile)\n",
    "print(type(pathlib_path))"
   ]
  },
  {
   "cell_type": "code",
   "execution_count": null,
   "id": "7458863d",
   "metadata": {},
   "outputs": [],
   "source": []
  },
  {
   "cell_type": "code",
   "execution_count": 55,
   "id": "68a10471",
   "metadata": {},
   "outputs": [
    {
     "name": "stdout",
     "output_type": "stream",
     "text": [
      "mypath.name:  myfile.txt\n",
      "mypath.stem:  myfile\n",
      "mypath.suffix:  .txt\n",
      "mypath.parent:  c:\\Users\\User\\Desktop\n",
      "mypath.parents:  <WindowsPath.parents>\n",
      "mypath.parts:  ('c:\\\\', 'Users', 'User', 'Desktop', 'myfile.txt')\n",
      "list(mypath.parents):  [WindowsPath('c:/Users/User/Desktop'), WindowsPath('c:/Users/User'), WindowsPath('c:/Users'), WindowsPath('c:/')]\n"
     ]
    }
   ],
   "source": [
    "# get the different parts of the path\n",
    "mypath = Path(\"c:/Users/User/Desktop/myfile.txt\")\n",
    "print(\"mypath.name: \", mypath.name)\n",
    "print(\"mypath.stem: \", mypath.stem)\n",
    "print(\"mypath.suffix: \", mypath.suffix)\n",
    "print(\"mypath.parent: \", mypath.parent)\n",
    "print(\"mypath.parents: \", mypath.parents)\n",
    "print(\"mypath.parts: \", mypath.parts)\n",
    "print(\"list(mypath.parents): \", list(mypath.parents))"
   ]
  },
  {
   "cell_type": "code",
   "execution_count": 58,
   "id": "f5a93ea9",
   "metadata": {},
   "outputs": [
    {
     "name": "stdout",
     "output_type": "stream",
     "text": [
      "initial path:  c:\\Users\\User\\Desktop\\myfile.txt\n",
      "with_suffix(\".png\"):  c:\\Users\\User\\Desktop\\myfile.png\n",
      "with_stem(\"another_file\"):  c:\\Users\\User\\Desktop\\another_file.txt\n",
      "with_name(\"another_file.csv\"):  c:\\Users\\User\\Desktop\\another_file.csv\n"
     ]
    }
   ],
   "source": [
    "# pathlib WindowsPath\n",
    "mypath = Path(\"c:/Users/User/Desktop/myfile.txt\")\n",
    "print('initial path: ', mypath)\n",
    "# new path with different file ending (\".png\")\n",
    "print('with_suffix(\".png\"): ', mypath.with_suffix(\".png\"))\n",
    "# new path with different stem (\"another_file\")\n",
    "print('with_stem(\"another_file\"): ', mypath.with_stem(\"another_file\"))\n",
    "# new path with different name (\"another_file.csv\")\n",
    "print('with_name(\"another_file.csv\"): ', mypath.with_name(\"another_file.csv\"))"
   ]
  },
  {
   "cell_type": "code",
   "execution_count": 62,
   "id": "7c424b14",
   "metadata": {},
   "outputs": [
    {
     "name": "stdout",
     "output_type": "stream",
     "text": [
      "c:\\Users\\user\\Desktop\\myfile.txt\n",
      "c:\\Users\\user\\Desktop\\myfile.txt\n",
      "c:\\Users\\user\\Desktop\\myfile.txt\n",
      "c:\\Users\\user\\Desktop\\myfile.txt\n"
     ]
    }
   ],
   "source": [
    "# join path segments using a forward slash ('/')\n",
    "print('c:/Users' / Path('user') / 'Desktop' / 'myfile.txt')\n",
    "print('c:/Users' / Path('user') / 'Desktop' / Path('myfile.txt'))\n",
    "print(Path('c:/Users') / 'user'/ 'Desktop' / 'myfile.txt')\n",
    "print(Path('c:/Users') / Path('user') / Path('Desktop') / Path('myfile.txt'))"
   ]
  },
  {
   "cell_type": "code",
   "execution_count": 2,
   "id": "eddb606a",
   "metadata": {},
   "outputs": [],
   "source": [
    "import os, shutil"
   ]
  },
  {
   "cell_type": "code",
   "execution_count": 3,
   "id": "58004342",
   "metadata": {},
   "outputs": [
    {
     "data": {
      "text/plain": [
       "'C:\\\\Users\\\\Ioannis\\\\Desktop\\\\projects\\\\seismologywebsite\\\\seismologywebsite\\\\notebooks'"
      ]
     },
     "execution_count": 3,
     "metadata": {},
     "output_type": "execute_result"
    }
   ],
   "source": [
    "os.getcwd()"
   ]
  },
  {
   "cell_type": "code",
   "execution_count": 4,
   "id": "b25d1b49",
   "metadata": {},
   "outputs": [],
   "source": [
    "# if the folder exists delete\n",
    "if os.path.exists(\"C:/Users/Ioannis/Desktop/Myproject\"):\n",
    "    shutil.rmtree(\"C:/Users/Ioannis/Desktop/Myproject\")"
   ]
  },
  {
   "cell_type": "code",
   "execution_count": 5,
   "id": "bfce5d16",
   "metadata": {},
   "outputs": [],
   "source": [
    "# now create the \"MyProject\" folder and change directory inside it\n",
    "os.mkdir(\"C:/Users/Ioannis/Desktop/Myproject\")\n",
    "os.chdir(\"C:/Users/Ioannis/Desktop/Myproject\")"
   ]
  },
  {
   "cell_type": "code",
   "execution_count": 6,
   "id": "b78f2bdc",
   "metadata": {},
   "outputs": [
    {
     "data": {
      "text/plain": [
       "'C:\\\\Users\\\\Ioannis\\\\Desktop\\\\Myproject'"
      ]
     },
     "execution_count": 6,
     "metadata": {},
     "output_type": "execute_result"
    }
   ],
   "source": [
    "# get the current working directory\n",
    "os.getcwd()"
   ]
  },
  {
   "cell_type": "code",
   "execution_count": 7,
   "id": "56e4dff4",
   "metadata": {},
   "outputs": [],
   "source": [
    "# create the \"Static\" and \"Template\" folders in the current directory\n",
    "os.mkdir(\"Static\")\n",
    "os.mkdir(\"Templates\")"
   ]
  },
  {
   "cell_type": "code",
   "execution_count": 8,
   "id": "2ea11d2e",
   "metadata": {},
   "outputs": [
    {
     "data": {
      "text/plain": [
       "['Static', 'Templates']"
      ]
     },
     "execution_count": 8,
     "metadata": {},
     "output_type": "execute_result"
    }
   ],
   "source": [
    "# list the \"MyProject\" folder \n",
    "os.listdir(\".\")"
   ]
  },
  {
   "cell_type": "markdown",
   "id": "3b21f747",
   "metadata": {},
   "source": [
    "Now i move the \"images\" folder in the \"MyProject\" folder. There i have the necessary files to make my website"
   ]
  },
  {
   "cell_type": "code",
   "execution_count": 10,
   "id": "abd94b12",
   "metadata": {},
   "outputs": [
    {
     "data": {
      "text/plain": [
       "['images', 'Static', 'Templates']"
      ]
     },
     "execution_count": 10,
     "metadata": {},
     "output_type": "execute_result"
    }
   ],
   "source": [
    "# list the \"MyProject\" folder \n",
    "os.listdir()"
   ]
  },
  {
   "cell_type": "code",
   "execution_count": 12,
   "id": "03d06e5b",
   "metadata": {},
   "outputs": [
    {
     "data": {
      "text/plain": [
       "'Templates\\\\about.html'"
      ]
     },
     "execution_count": 12,
     "metadata": {},
     "output_type": "execute_result"
    }
   ],
   "source": [
    "# move the index.html and the about.html files to the \"Templates\" folder\n",
    "shutil.move(\"images/index.html\", \"Templates\")\n",
    "shutil.move(\"images/about.html\", \"Templates\")"
   ]
  },
  {
   "cell_type": "code",
   "execution_count": 14,
   "id": "6fdae71b",
   "metadata": {},
   "outputs": [
    {
     "data": {
      "text/plain": [
       "['about.html', 'index.html']"
      ]
     },
     "execution_count": 14,
     "metadata": {},
     "output_type": "execute_result"
    }
   ],
   "source": [
    "# list the contents of the \"Templates\" folder\n",
    "os.listdir(\"Templates\")"
   ]
  },
  {
   "cell_type": "code",
   "execution_count": 15,
   "id": "1211320c",
   "metadata": {},
   "outputs": [],
   "source": [
    "# create a folder called \"AUTH\" inside the \"Templates\" folder\n",
    "os.mkdir(\"Templates/AUTH\")"
   ]
  },
  {
   "cell_type": "code",
   "execution_count": 16,
   "id": "091755c1",
   "metadata": {},
   "outputs": [
    {
     "data": {
      "text/plain": [
       "['about.html', 'AUTH', 'index.html']"
      ]
     },
     "execution_count": 16,
     "metadata": {},
     "output_type": "execute_result"
    }
   ],
   "source": [
    "# list the contents of the \"Templates\" folder\n",
    "os.listdir(\"Templates\")"
   ]
  },
  {
   "cell_type": "code",
   "execution_count": 18,
   "id": "6eb9654e",
   "metadata": {},
   "outputs": [
    {
     "data": {
      "text/plain": [
       "'Templates/AUTH\\\\login.html'"
      ]
     },
     "execution_count": 18,
     "metadata": {},
     "output_type": "execute_result"
    }
   ],
   "source": [
    "# move the \"login.html\" file in the \"AUTH\" folder\n",
    "shutil.move(\"images/login.html\", \"Templates/AUTH\")"
   ]
  },
  {
   "cell_type": "code",
   "execution_count": 19,
   "id": "a8705fe8",
   "metadata": {},
   "outputs": [
    {
     "data": {
      "text/plain": [
       "'Templates/AUTH/register.html'"
      ]
     },
     "execution_count": 19,
     "metadata": {},
     "output_type": "execute_result"
    }
   ],
   "source": [
    "# copy the \"login.html\" in the same folder (\"AUTH\") and create\n",
    "# another file with name \"register.html\"\n",
    "shutil.copyfile(\"Templates/AUTH/login.html\", \"Templates/AUTH/register.html\")"
   ]
  },
  {
   "cell_type": "code",
   "execution_count": 20,
   "id": "36b7c957",
   "metadata": {},
   "outputs": [
    {
     "data": {
      "text/plain": [
       "['login.html', 'register.html']"
      ]
     },
     "execution_count": 20,
     "metadata": {},
     "output_type": "execute_result"
    }
   ],
   "source": [
    "# check the contents of the \"AUTH\" folder now\n",
    "os.listdir(\"Templates/AUTH\")"
   ]
  },
  {
   "cell_type": "code",
   "execution_count": 21,
   "id": "4afa4a9d",
   "metadata": {},
   "outputs": [],
   "source": [
    "# now change directory to the \"Static\" folder\n",
    "os.chdir(\"Static\")"
   ]
  },
  {
   "cell_type": "code",
   "execution_count": 22,
   "id": "fbd39d0f",
   "metadata": {},
   "outputs": [
    {
     "data": {
      "text/plain": [
       "'C:\\\\Users\\\\Ioannis\\\\Desktop\\\\Myproject\\\\Static'"
      ]
     },
     "execution_count": 22,
     "metadata": {},
     "output_type": "execute_result"
    }
   ],
   "source": [
    "# get the current working directory\n",
    "os.getcwd()"
   ]
  },
  {
   "cell_type": "code",
   "execution_count": 23,
   "id": "31756e7c",
   "metadata": {},
   "outputs": [],
   "source": [
    "# create three folder called \"Images\", \"Javascript\" and \"CSS\"\n",
    "# at the \"Static\" folder (current working directory)\n",
    "os.mkdir(\"Images\")\n",
    "os.mkdir(\"Javascript\")\n",
    "os.mkdir(\"CSS\")"
   ]
  },
  {
   "cell_type": "code",
   "execution_count": 25,
   "id": "a949b652",
   "metadata": {},
   "outputs": [
    {
     "data": {
      "text/plain": [
       "['CSS', 'Images', 'Javascript']"
      ]
     },
     "execution_count": 25,
     "metadata": {},
     "output_type": "execute_result"
    }
   ],
   "source": [
    "# list the \"Static\" folder contents\n",
    "os.listdir(\".\")"
   ]
  },
  {
   "cell_type": "code",
   "execution_count": 27,
   "id": "2250a5ca",
   "metadata": {},
   "outputs": [
    {
     "data": {
      "text/plain": [
       "'CSS\\\\main.css'"
      ]
     },
     "execution_count": 27,
     "metadata": {},
     "output_type": "execute_result"
    }
   ],
   "source": [
    "# move the rest files to each respective folders\n",
    "shutil.move(\"../images/site-logo.svg\", \"Images\")\n",
    "shutil.move(\"../images/about.png\", \"Images\")\n",
    "shutil.move(\"../images/index.js\", \"Javascript\")\n",
    "shutil.move(\"../images/main.css\", \"CSS\")"
   ]
  },
  {
   "cell_type": "code",
   "execution_count": 28,
   "id": "70e873a9",
   "metadata": {},
   "outputs": [
    {
     "data": {
      "text/plain": [
       "['about.png', 'site-logo.svg']"
      ]
     },
     "execution_count": 28,
     "metadata": {},
     "output_type": "execute_result"
    }
   ],
   "source": [
    "# now check the contents of the \"Images\" folder \n",
    "os.listdir(\"Images\")"
   ]
  },
  {
   "cell_type": "code",
   "execution_count": 29,
   "id": "84282f64",
   "metadata": {},
   "outputs": [
    {
     "data": {
      "text/plain": [
       "['index.js']"
      ]
     },
     "execution_count": 29,
     "metadata": {},
     "output_type": "execute_result"
    }
   ],
   "source": [
    "# the same for the \"Javascript\" folder\n",
    "os.listdir(\"Javascript\")"
   ]
  },
  {
   "cell_type": "code",
   "execution_count": 30,
   "id": "275ad63c",
   "metadata": {},
   "outputs": [
    {
     "data": {
      "text/plain": [
       "['main.css']"
      ]
     },
     "execution_count": 30,
     "metadata": {},
     "output_type": "execute_result"
    }
   ],
   "source": [
    "# and the \"CSS\" folder\n",
    "os.listdir(\"CSS\")"
   ]
  },
  {
   "cell_type": "code",
   "execution_count": 31,
   "id": "684dabd0",
   "metadata": {},
   "outputs": [],
   "source": [
    "# now delete the \"Images\" folder that is located in the \"MyProject\" folder\n",
    "# if the folder is not empty use the rmtree command\n",
    "# else use the rmdir command\n",
    "if os.listdir(\"../Images\"):\n",
    "    shutil.rmtree(\"../Images\")\n",
    "else:\n",
    "    os.rmdir(\"../Images\")"
   ]
  },
  {
   "cell_type": "code",
   "execution_count": null,
   "id": "b1b01088",
   "metadata": {},
   "outputs": [],
   "source": []
  }
 ],
 "metadata": {
  "kernelspec": {
   "display_name": "Python 3 (ipykernel)",
   "language": "python",
   "name": "python3"
  },
  "language_info": {
   "codemirror_mode": {
    "name": "ipython",
    "version": 3
   },
   "file_extension": ".py",
   "mimetype": "text/x-python",
   "name": "python",
   "nbconvert_exporter": "python",
   "pygments_lexer": "ipython3",
   "version": "3.10.9"
  }
 },
 "nbformat": 4,
 "nbformat_minor": 5
}
